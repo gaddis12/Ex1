{
 "cells": [
  {
   "cell_type": "markdown",
   "metadata": {},
   "source": [
    "Part 1"
   ]
  },
  {
   "cell_type": "code",
   "execution_count": 41,
   "metadata": {},
   "outputs": [
    {
     "name": "stdout",
     "output_type": "stream",
     "text": [
      "32\n",
      "[7, 18, 37, 14, 7, 40, 31, 7, 34, 10, 13, 36, 24, 15, 24, 8, 34, 48, 36, 42, 36, 41, 20, 33, 16, 28, 13, 18, 39, 43, 36, 29, 7, 40, 48, 41, 15, 15, 48, 46]\n",
      "The average of the list is :27.425\n"
     ]
    }
   ],
   "source": [
    "import random\n",
    "print(random.randint(5,50))\n",
    "random_list = []\n",
    "for i in range(1,41):\n",
    "    random_list.append(random.randint(5,50))\n",
    "    \n",
    "print(random_list)\n",
    "sum_list = sum(random_list)\n",
    "len_list = len(random_list)\n",
    "avg_num = sum_list/len_list\n",
    "\n",
    "print(f\"The average of the list is :{avg_num}\")"
   ]
  },
  {
   "cell_type": "markdown",
   "metadata": {},
   "source": [
    "Part 2"
   ]
  },
  {
   "cell_type": "code",
   "execution_count": 19,
   "metadata": {
    "scrolled": true
   },
   "outputs": [
    {
     "name": "stdout",
     "output_type": "stream",
     "text": [
      "Known Ip adresses Updated['45.23.98.12', '89.23.21.9', '67.45.23.43', '', '12.45.23.1', '89.34.23.67', '90.32.65.98']\n"
     ]
    }
   ],
   "source": [
    "known_ips = ['12.45.23.1', '89.34.23.67', '67.45.23.43', '90.32.65.98']\n",
    "new_ips = ['45.23.98.12', '89.23.21.9', '67.45.23.43', '1.1.1.1']\n",
    "\n",
    "for i in known_ips:\n",
    "    if i not in new_ips:\n",
    "        new_ips.append(i)\n",
    "        new_ips[3]=\"\"\n",
    "print(\"Known Ip adresses Updated\" + str(new_ips))\n"
   ]
  },
  {
   "cell_type": "markdown",
   "metadata": {},
   "source": [
    "Part 3"
   ]
  },
  {
   "cell_type": "code",
   "execution_count": 53,
   "metadata": {},
   "outputs": [
    {
     "name": "stdout",
     "output_type": "stream",
     "text": [
      "Buzz Buzz\n"
     ]
    }
   ],
   "source": [
    "camelcase = ['bees', 'BEES', 'BeEs', 'Bees', 'BeeS']\n",
    "matching = [s for s in camelcase if \"bees\" in s]\n",
    "print(\"Buzz Buzz\")"
   ]
  }
 ],
 "metadata": {
  "kernelspec": {
   "display_name": "Python 3",
   "language": "python",
   "name": "python3"
  },
  "language_info": {
   "codemirror_mode": {
    "name": "ipython",
    "version": 3
   },
   "file_extension": ".py",
   "mimetype": "text/x-python",
   "name": "python",
   "nbconvert_exporter": "python",
   "pygments_lexer": "ipython3",
   "version": "3.8.5"
  }
 },
 "nbformat": 4,
 "nbformat_minor": 4
}
